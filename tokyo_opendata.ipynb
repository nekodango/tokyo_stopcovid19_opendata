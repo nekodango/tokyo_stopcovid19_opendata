{
  "nbformat": 4,
  "nbformat_minor": 0,
  "metadata": {
    "colab": {
      "name": "tokyo_opendata.ipynb",
      "provenance": [],
      "private_outputs": true,
      "collapsed_sections": [],
      "toc_visible": true,
      "authorship_tag": "ABX9TyO4kWDM+KRLfFEwsRouAnmQ",
      "include_colab_link": true
    },
    "kernelspec": {
      "name": "python3",
      "display_name": "Python 3"
    }
  },
  "cells": [
    {
      "cell_type": "markdown",
      "metadata": {
        "id": "view-in-github",
        "colab_type": "text"
      },
      "source": [
        "<a href=\"https://colab.research.google.com/github/nekodango/tokyo_stopcovid19_opendata/blob/master/tokyo_opendata.ipynb\" target=\"_parent\"><img src=\"https://colab.research.google.com/assets/colab-badge.svg\" alt=\"Open In Colab\"/></a>"
      ]
    },
    {
      "cell_type": "code",
      "metadata": {
        "id": "Hp_KpCHxpUrq",
        "colab_type": "code",
        "colab": {}
      },
      "source": [
        "import pandas as pd"
      ],
      "execution_count": 0,
      "outputs": []
    },
    {
      "cell_type": "code",
      "metadata": {
        "id": "NGO_LUBhoCKF",
        "colab_type": "code",
        "colab": {}
      },
      "source": [
        "!wget https://stopcovid19.metro.tokyo.lg.jp/data/130001_tokyo_covid19_patients.csv\n",
        "!wget https://stopcovid19.metro.tokyo.lg.jp/data/130001_tokyo_covid19_call_center.csv\n",
        "!wget https://stopcovid19.metro.tokyo.lg.jp/data/130001_tokyo_covid19_combined_telephone_advice_center.csv"
      ],
      "execution_count": 0,
      "outputs": []
    },
    {
      "cell_type": "code",
      "metadata": {
        "id": "cyOVLBdxoyWt",
        "colab_type": "code",
        "colab": {}
      },
      "source": [
        "# 東京都_新型コロナウイルス陽性患者発表詳細\n",
        "df_patients = pd.read_csv('130001_tokyo_covid19_patients.csv')\n",
        "df_patients['公表_年月日'] = pd.to_datetime(df_patients['公表_年月日'], format='%Y-%m-%d')\n",
        "\n",
        "# 東京都_新型コロナコールセンター相談件数\n",
        "df_call_center = pd.read_csv('130001_tokyo_covid19_call_center.csv')\n",
        "df_call_center['受付_年月日'] = pd.to_datetime(df_call_center['受付_年月日'], format='%Y-%m-%d')\n",
        "\n",
        "#東京都 新型コロナ受診相談窓口相談件数\n",
        "df_advice_center = pd.read_csv('130001_tokyo_covid19_combined_telephone_advice_center.csv')\n",
        "df_advice_center['受付_年月日'] = pd.to_datetime(df_advice_center['受付_年月日'], format='%Y-%m-%d')"
      ],
      "execution_count": 0,
      "outputs": []
    },
    {
      "cell_type": "code",
      "metadata": {
        "id": "sPmEuesFpciJ",
        "colab_type": "code",
        "colab": {}
      },
      "source": [
        "df_patients.columns"
      ],
      "execution_count": 0,
      "outputs": []
    },
    {
      "cell_type": "code",
      "metadata": {
        "id": "t9ejQOOoqToN",
        "colab_type": "code",
        "colab": {}
      },
      "source": [
        "df_tmp = df_patients[['公表_年月日', '患者_年代']]"
      ],
      "execution_count": 0,
      "outputs": []
    },
    {
      "cell_type": "code",
      "metadata": {
        "id": "eEedA-ycw3hb",
        "colab_type": "code",
        "colab": {}
      },
      "source": [
        "df_tmp['人数'] = 1"
      ],
      "execution_count": 0,
      "outputs": []
    },
    {
      "cell_type": "code",
      "metadata": {
        "id": "A-N2toSnvUFA",
        "colab_type": "code",
        "colab": {}
      },
      "source": [
        "df_tmp2 = df_tmp.pivot(columns='患者_年代', values='人数' )"
      ],
      "execution_count": 0,
      "outputs": []
    },
    {
      "cell_type": "code",
      "metadata": {
        "id": "TQFRNC7yvmEY",
        "colab_type": "code",
        "colab": {}
      },
      "source": [
        "df_tmp = pd.concat([df_tmp['公表_年月日'], df_tmp2], axis=1).fillna(0)\n",
        "df_tmp = df_tmp[['公表_年月日', '10歳未満', '10代',  '20代', '30代', '40代', '50代', '60代', '70代', '80代', '90代','不明']]"
      ],
      "execution_count": 0,
      "outputs": []
    },
    {
      "cell_type": "code",
      "metadata": {
        "id": "5n8JjAYVwvgW",
        "colab_type": "code",
        "colab": {}
      },
      "source": [
        "df_tmp.tail(15)"
      ],
      "execution_count": 0,
      "outputs": []
    },
    {
      "cell_type": "code",
      "metadata": {
        "id": "TB8eOE7OwhQu",
        "colab_type": "code",
        "colab": {}
      },
      "source": [
        "df_tmp = df_tmp.groupby('公表_年月日').sum()"
      ],
      "execution_count": 0,
      "outputs": []
    },
    {
      "cell_type": "code",
      "metadata": {
        "id": "toHfbPAgyK4E",
        "colab_type": "code",
        "colab": {}
      },
      "source": [
        "df_tmp.resample('D').mean().fillna(0) #.to_csv('patients.csv')"
      ],
      "execution_count": 0,
      "outputs": []
    },
    {
      "cell_type": "code",
      "metadata": {
        "id": "04SNsu3wzhCl",
        "colab_type": "code",
        "colab": {}
      },
      "source": [
        ""
      ],
      "execution_count": 0,
      "outputs": []
    },
    {
      "cell_type": "code",
      "metadata": {
        "id": "RqCiGGJ_peZi",
        "colab_type": "code",
        "colab": {}
      },
      "source": [
        "df_call_center"
      ],
      "execution_count": 0,
      "outputs": []
    },
    {
      "cell_type": "code",
      "metadata": {
        "id": "uVzvrop0pjsC",
        "colab_type": "code",
        "colab": {}
      },
      "source": [
        "df_advice_center"
      ],
      "execution_count": 0,
      "outputs": []
    },
    {
      "cell_type": "code",
      "metadata": {
        "id": "sXZrvgLWpnjj",
        "colab_type": "code",
        "colab": {}
      },
      "source": [
        ""
      ],
      "execution_count": 0,
      "outputs": []
    }
  ]
}