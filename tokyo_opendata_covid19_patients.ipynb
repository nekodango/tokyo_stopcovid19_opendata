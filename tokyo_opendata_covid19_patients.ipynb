{
  "nbformat": 4,
  "nbformat_minor": 0,
  "metadata": {
    "colab": {
      "name": "tokyo_opendata_covid19_patients.ipynb",
      "provenance": [],
      "collapsed_sections": [],
      "toc_visible": true,
      "authorship_tag": "ABX9TyNcAoOnwSuOcDdISuUDXRU2",
      "include_colab_link": true
    },
    "kernelspec": {
      "name": "python3",
      "display_name": "Python 3"
    }
  },
  "cells": [
    {
      "cell_type": "markdown",
      "metadata": {
        "id": "view-in-github",
        "colab_type": "text"
      },
      "source": [
        "<a href=\"https://colab.research.google.com/github/nekodango/tokyo_stopcovid19_opendata/blob/master/tokyo_opendata_covid19_patients.ipynb\" target=\"_parent\"><img src=\"https://colab.research.google.com/assets/colab-badge.svg\" alt=\"Open In Colab\"/></a>"
      ]
    },
    {
      "cell_type": "markdown",
      "metadata": {
        "id": "3Ls1mR1Jtxhv",
        "colab_type": "text"
      },
      "source": [
        "\n",
        "\n",
        "# 1.   データの取得・集計\n",
        "\n"
      ]
    },
    {
      "cell_type": "code",
      "metadata": {
        "id": "Hp_KpCHxpUrq",
        "colab_type": "code",
        "colab": {}
      },
      "source": [
        "import pandas as pd"
      ],
      "execution_count": 0,
      "outputs": []
    },
    {
      "cell_type": "code",
      "metadata": {
        "id": "NGO_LUBhoCKF",
        "colab_type": "code",
        "colab": {}
      },
      "source": [
        "!wget https://stopcovid19.metro.tokyo.lg.jp/data/130001_tokyo_covid19_patients.csv"
      ],
      "execution_count": 0,
      "outputs": []
    },
    {
      "cell_type": "code",
      "metadata": {
        "id": "cyOVLBdxoyWt",
        "colab_type": "code",
        "colab": {}
      },
      "source": [
        "# 東京都_新型コロナウイルス陽性患者発表詳細\n",
        "df_patients = pd.read_csv('130001_tokyo_covid19_patients.csv')\n",
        "df_patients['公表_年月日'] = pd.to_datetime(df_patients['公表_年月日'], format='%Y-%m-%d')"
      ],
      "execution_count": 0,
      "outputs": []
    },
    {
      "cell_type": "code",
      "metadata": {
        "id": "sPmEuesFpciJ",
        "colab_type": "code",
        "colab": {}
      },
      "source": [
        "# 読み込んだテーブル先頭5行を表示する\n",
        "df_patients.head(5)"
      ],
      "execution_count": 0,
      "outputs": []
    },
    {
      "cell_type": "code",
      "metadata": {
        "id": "t9ejQOOoqToN",
        "colab_type": "code",
        "colab": {}
      },
      "source": [
        "# 縦軸に日付、横軸に年代をとった、日別・年代別陽性患者数の集計表を作る\n",
        "df_tmp = df_patients[['公表_年月日', '患者_年代']]\n",
        "df_tmp['人数'] = 1\n",
        "df_tmp2 = df_tmp.pivot(columns='患者_年代', values='人数' )\n",
        "df_tmp = pd.concat([df_tmp['公表_年月日'], df_tmp2], axis=1).fillna(0)\n",
        "df_tmp = df_tmp[['公表_年月日', '10歳未満', '10代',  '20代', '30代', '40代', '50代', '60代', '70代', '80代', '90代','不明']]\n",
        "df_tmp = df_tmp.groupby('公表_年月日').sum()\n",
        "df_dairy_patients = df_tmp.resample('D').mean().fillna(0) #.to_csv('patients.csv')"
      ],
      "execution_count": 0,
      "outputs": []
    },
    {
      "cell_type": "code",
      "metadata": {
        "id": "ZTsrdTSlz7X_",
        "colab_type": "code",
        "colab": {}
      },
      "source": [
        "# 日別・年代別陽性患者数の集計表を表示する\n",
        "df_dairy_patients"
      ],
      "execution_count": 0,
      "outputs": []
    },
    {
      "cell_type": "markdown",
      "metadata": {
        "id": "h6_49M3LuP2_",
        "colab_type": "text"
      },
      "source": [
        "# 2. 可視化"
      ]
    },
    {
      "cell_type": "code",
      "metadata": {
        "id": "JRrvfUG90OTK",
        "colab_type": "code",
        "colab": {}
      },
      "source": [
        "# Seabornで日本語フォントを使えるようにする\n",
        "!pip install japanize_matplotlib\n",
        "import matplotlib.pyplot as plt\n",
        "import japanize_matplotlib \n",
        "import seaborn as sns\n",
        "\n",
        "sns.set(font=\"IPAexGothic\")"
      ],
      "execution_count": 0,
      "outputs": []
    },
    {
      "cell_type": "code",
      "metadata": {
        "id": "KsHjwGv2lMa0",
        "colab_type": "code",
        "colab": {}
      },
      "source": [
        "# 曜日が日本語(日〜金)の日時ラベルを作る\n",
        "week = {'Sun': '日', 'Mon': '月', 'Tue': '火', 'Wed': '水', 'Thu': '木', 'Fri': '金', 'Sat': '土'}\n",
        "date_monthday = list(df_dairy_patients.index.strftime('%m/%d'))\n",
        "date_week = [week[x] for x in list(df_dairy_patients.index.strftime('%a'))]\n",
        "date_label = [f'{monthday}({week})' for monthday, week in zip(date_monthday, date_week)]"
      ],
      "execution_count": 0,
      "outputs": []
    },
    {
      "cell_type": "code",
      "metadata": {
        "id": "cKAbtekVzxb_",
        "colab_type": "code",
        "colab": {}
      },
      "source": [
        "# 縦軸に年代、横軸に日付をとった陽性患者数のヒートマップ\n",
        "plt.figure(figsize=(30, 16))\n",
        "plt.tick_params(axis='both', which='major', labelsize=10, labelbottom = False, bottom=False, top = False, labeltop=True)\n",
        "sns.heatmap(df_dairy_patients.T, square=True, annot=True, cbar=False, cmap='Reds', linewidths=0.1, xticklabels=date_label)"
      ],
      "execution_count": 0,
      "outputs": []
    },
    {
      "cell_type": "code",
      "metadata": {
        "id": "8iGuEGCD2FHE",
        "colab_type": "code",
        "colab": {}
      },
      "source": [
        "# 縦軸に日付、横軸に年代をとった陽性患者数のヒートマップ\n",
        "plt.figure(figsize=(20, 30))\n",
        "plt.tick_params(axis='both', which='major', labelsize=10, labelbottom = False, bottom=False, top = False, labeltop=True)\n",
        "chart = sns.heatmap(df_dairy_patients.sort_index(ascending=False), square=True, annot=True, cbar=False, cmap='Reds', linewidths=0.1, yticklabels=list(reversed(date_label)))\n",
        "# x軸のラベル文字列(10歳未満 等)のlistがそのまま表示されて気持ち悪いので、代入することで非表示にする\n",
        "_ = chart.set_xticklabels(chart.get_xticklabels(), rotation=45)"
      ],
      "execution_count": 0,
      "outputs": []
    }
  ]
}